{
  "nbformat": 4,
  "nbformat_minor": 0,
  "metadata": {
    "colab": {
      "provenance": []
    },
    "kernelspec": {
      "name": "python3",
      "display_name": "Python 3"
    },
    "language_info": {
      "name": "python"
    }
  },
  "cells": [
    {
      "cell_type": "code",
      "source": [
        "import numpy as np\n",
        "import matplotlib.pyplot as plt"
      ],
      "metadata": {
        "id": "7mRevzhyMZkb"
      },
      "execution_count": 1,
      "outputs": []
    },
    {
      "cell_type": "code",
      "source": [
        "# Arrival & service rates\n",
        "A = 20            # calls per hour\n",
        "u = 5             # calls served per agent per hour\n",
        "shift_hours = 8   # 8-hour shift\n",
        "\n",
        "# Simulate settings\n",
        "np.random.seed(1)"
      ],
      "metadata": {
        "id": "8Kw7pCVBOpTN"
      },
      "execution_count": 2,
      "outputs": []
    },
    {
      "cell_type": "code",
      "source": [
        "# 2. Single-Run Simulation Function\n",
        "\n",
        "def simulate_queue(s):\n",
        "    \"\"\"\n",
        "    Simulate an M/M/s queue over 'shift_hours'.\n",
        "    Returns arrays of wait times (hrs) and system sizes at arrivals.\n",
        "    \"\"\"\n",
        "\n",
        "    # generate arrival times until end of shift\n",
        "    inter = np.random.exponential(1/A, int(A*shift_hours*1.5))\n",
        "    arrivals = np.cumsum(inter)\n",
        "    arrivals = arrivals[arrivals < shift_hours]\n",
        "    N = len(arrivals)\n",
        "\n",
        "    # generate service times for each caller\n",
        "    services = np.random.exponential(1/u, N)\n",
        "\n",
        "    # track each server's next-free time\n",
        "    next_free = np.zeros(s)\n",
        "    wait_times = np.zeros(N)\n",
        "    system_size = np.zeros(N)\n",
        "\n",
        "    # departure times list\n",
        "    dep_times = []\n",
        "\n",
        "    for i, t in enumerate(arrivals):\n",
        "        # find soonest-available agent\n",
        "        j = np.argmin(next_free)\n",
        "        start = max(t, next_free[j])\n",
        "        wait_times[i] = start - t\n",
        "        end = start + services[i]\n",
        "        next_free[j] = end\n",
        "        dep_times.append(end)\n",
        "\n",
        "        # count how many callers are still in system at time t\n",
        "        system_size[i] = np.sum(np.array(dep_times) > t)\n",
        "\n",
        "    return wait_times, system_size\n",
        "\n",
        "\n",
        "  # quick test for s=1\n",
        "w1, q1 = simulate_queue(s=1)\n",
        "print(f\"s=1: avg wait {w1.mean()*60:.1f} min, avg queue len {q1.mean():.2f}\")"
      ],
      "metadata": {
        "colab": {
          "base_uri": "https://localhost:8080/"
        },
        "id": "GB3xBzFvPA1J",
        "outputId": "ab2b2f3f-c3de-49bd-c6ae-e8ec0d5be8bc"
      },
      "execution_count": 3,
      "outputs": [
        {
          "output_type": "stream",
          "name": "stdout",
          "text": [
            "s=1: avg wait 808.2 min, avg queue len 65.99\n"
          ]
        }
      ]
    },
    {
      "cell_type": "code",
      "source": [
        "# 3. Compare to M/M/1 Analytic Formula\n",
        "\n",
        "# traffic intensity ρ for s=1\n",
        "ρ1 = A / u\n",
        "L_analytic = ρ1 / (1 - ρ1)\n",
        "W_analytic = L_analytic / A  # hours\n",
        "\n",
        "print(\"M/M/1 analytic vs. simulation:\")\n",
        "print(f\"  Analytic system size L = {L_analytic:.2f}\")\n",
        "print(f\"  Simulated avg system size = {q1.mean():.2f}\")\n",
        "print(f\"  Analytic time in system W = {W_analytic*60:.1f} min\")\n",
        "print(f\"  Simulated avg wait+service = {(w1.mean() + (1/u))*60:.1f} min\")"
      ],
      "metadata": {
        "colab": {
          "base_uri": "https://localhost:8080/"
        },
        "id": "s5O4_L7SZgaY",
        "outputId": "f473993e-6f29-400f-f89f-d611da03dab2"
      },
      "execution_count": 4,
      "outputs": [
        {
          "output_type": "stream",
          "name": "stdout",
          "text": [
            "M/M/1 analytic vs. simulation:\n",
            "  Analytic system size L = -1.33\n",
            "  Simulated avg system size = 65.99\n",
            "  Analytic time in system W = -4.0 min\n",
            "  Simulated avg wait+service = 820.2 min\n"
          ]
        }
      ]
    },
    {
      "cell_type": "code",
      "source": [
        "threshold = 5  # minutes\n",
        "results = []\n",
        "\n",
        "for s in range(1, 6):\n",
        "    w, q = simulate_queue(s)\n",
        "    # convert hours to minutes\n",
        "    waits_min = w * 60\n",
        "    p95_wait = np.percentile(waits_min, 95)\n",
        "    results.append((s, waits_min.mean(), p95_wait, q.mean()))\n",
        "\n",
        "# tabulate\n",
        "import pandas as pd\n",
        "df = pd.DataFrame(results, columns=['Agents', 'Avg Wait (min)', '95th-pct Wait (min)', 'Avg System Size'])\n",
        "print(df)\n",
        "\n",
        "# find minimal s meeting threshold\n",
        "good = df[df['95th-pct Wait (min)'] <= threshold]\n",
        "if not good.empty:\n",
        "    best_s = int(good.iloc[0]['Agents'])\n",
        "    print(f\"\\n=> Schedule at least {best_s} agents to keep 95% of waits ≤ {threshold} min.\")\n",
        "else:\n",
        "    print(f\"\\nEven 5 agents can't meet the 5 min 95% wait target.\")"
      ],
      "metadata": {
        "id": "sAWn1JO6e9zm",
        "colab": {
          "base_uri": "https://localhost:8080/"
        },
        "outputId": "23bc0b25-d5f5-49f0-a861-6f851a35fc0b"
      },
      "execution_count": 10,
      "outputs": [
        {
          "output_type": "stream",
          "name": "stdout",
          "text": [
            "   Agents  Avg Wait (min)  95th-pct Wait (min)  Avg System Size\n",
            "0       1      703.341351          1416.054966        62.359281\n",
            "1       2      210.291373           454.050946        34.025000\n",
            "2       3       55.355851            81.837651        19.697987\n",
            "3       4        9.673012            27.274922         7.361111\n",
            "4       5        5.092534            21.376076         6.613924\n",
            "\n",
            "Even 5 agents can't meet the 5 min 95% wait target.\n"
          ]
        }
      ]
    },
    {
      "cell_type": "code",
      "source": [
        "# 5. Visualize Wait-Time Distributions\n",
        "plt.figure(figsize=(8, 4))\n",
        "for s in [1, 2, 3, 4, 5]:\n",
        "    w, _ = simulate_queue(s)\n",
        "    plt.hist(w * 60, bins=30, alpha=0.5, label=f's={s}')\n",
        "\n",
        "plt.axvline(threshold, color='k', linestyle='--', label='5 min target')\n",
        "plt.xlabel('Wait time (minutes)')\n",
        "plt.ylabel('Frequency')\n",
        "plt.title('Wait-time Distributions for Different Agent Counts')\n",
        "plt.legend()\n",
        "plt.show()"
      ],
      "metadata": {
        "colab": {
          "base_uri": "https://localhost:8080/",
          "height": 386
        },
        "id": "XRqG408qYIbT",
        "outputId": "39bf28a5-ed24-42da-ab00-cd4af308b91c"
      },
      "execution_count": 11,
      "outputs": [
        {
          "output_type": "display_data",
          "data": {
            "text/plain": [
              "<Figure size 800x400 with 1 Axes>"
            ],
            "image/png": "[encoded data removed]"
          },
          "metadata": {}
        }
      ]
    },
    {
      "cell_type": "code",
      "source": [
        "# 6. Time-Varying λ\n",
        "def simulate_queue_timevarying(s):\n",
        "    # define piecewise arrival rates per hour\n",
        "    periods = [(0,2,30), (2,6,20), (6,8,40)]  # (start, end, λ)\n",
        "    arrivals = []\n",
        "    for start, end, lam in periods:\n",
        "        duration = end - start\n",
        "        inter = np.random.exponential(1/lam, int(lam*duration*1.5))\n",
        "        ts = np.cumsum(inter) + start\n",
        "        arrivals.extend(ts[ts < end])\n",
        "    arrivals = np.array(arrivals)\n",
        "    arrivals.sort()\n",
        "\n",
        "    N = len(arrivals)\n",
        "    services = np.random.exponential(1/u, N)\n",
        "    next_free = np.zeros(s)\n",
        "    wait_times = np.zeros(N)\n",
        "\n",
        "    for i, t in enumerate(arrivals):\n",
        "        j = np.argmin(next_free)\n",
        "        start = max(t, next_free[j])\n",
        "        wait_times[i] = start - t\n",
        "        next_free[j] = start + services[i]\n",
        "\n",
        "    return wait_times\n",
        "w_tv = simulate_queue_timevarying(s=3)\n",
        "print(f\"Time-varying λ, s=3 → avg wait = {w_tv.mean()*60:.1f} min\")\n",
        "\n",
        "#**outcome:** student will see how peak-hour traffic dramatically\n",
        "#increase wait times unless staff levels raise."
      ],
      "metadata": {
        "colab": {
          "base_uri": "https://localhost:8080/"
        },
        "id": "Mn3Ikgyabkdi",
        "outputId": "5a713ddf-118f-4c06-d78c-723fd5ee2ac6"
      },
      "execution_count": 13,
      "outputs": [
        {
          "output_type": "stream",
          "name": "stdout",
          "text": [
            "Time-varying λ, s=3 → avg wait = 183.4 min\n"
          ]
        }
      ]
    },
    {
      "cell_type": "code",
      "source": [
        "# 7. Abandonment\n",
        "def simulate_with_abandon(s, patience=5/60):\n",
        "    arrivals = np.cumsum(np.random.exponential(1/A, int(A*shift_hours*1.5)))\n",
        "    arrivals = arrivals[arrivals < shift_hours]\n",
        "    services = np.random.exponential(1/u, len(arrivals))\n",
        "    next_free = np.zeros(s)\n",
        "    waits = []\n",
        "    abandons = 0\n",
        "\n",
        "    for i, t in enumerate(arrivals):\n",
        "        j = np.argmin(next_free)\n",
        "        start = max(t, next_free[j])\n",
        "        wait = start - t\n",
        "        if wait > patience:\n",
        "            abandons += 1\n",
        "        else:\n",
        "            waits.append(wait)\n",
        "            next_free[j] = start + services[i]\n",
        "\n",
        "    return np.array(waits), abandons / len(arrivals)\n",
        "w, ab_rate = simulate_with_abandon(s=4)\n",
        "print(f\"Abandon rate (s=4): {ab_rate:.2%}, avg wait on served calls: {w.mean()*60:.1f} min\")"
      ],
      "metadata": {
        "colab": {
          "base_uri": "https://localhost:8080/"
        },
        "id": "m_-rU_UIhOEE",
        "outputId": "4d5b34d5-7404-4b41-af4c-ec4556193703"
      },
      "execution_count": 17,
      "outputs": [
        {
          "output_type": "stream",
          "name": "stdout",
          "text": [
            "Abandon rate (s=4): 21.77%, avg wait on served calls: 0.9 min\n"
          ]
        }
      ]
    },
    {
      "cell_type": "code",
      "source": [
        "# 8. Agent Break Scheduling\n",
        "def simulate_with_breaks(s, break_start=3, break_length=0.25):\n",
        "    arrivals = np.cumsum(np.random.exponential(1/A, int(A*shift_hours*1.5)))\n",
        "    arrivals = arrivals[arrivals < shift_hours]\n",
        "    services = np.random.exponential(1/u, len(arrivals))\n",
        "    next_free = np.zeros(s)\n",
        "    waits = []\n",
        "\n",
        "    for i, t in enumerate(arrivals):\n",
        "        # if in break window, one fewer agent\n",
        "        avail = next_free.copy()\n",
        "        if break_start < t < break_start + break_length:\n",
        "            avail = np.delete(avail, 0)  # remove one agent\n",
        "        j = np.argmin(avail)\n",
        "        start = max(t, avail[j])\n",
        "        waits.append(start - t)\n",
        "        # update that agent's free time in original array\n",
        "        idx = j + (1 if break_start < t < break_start + break_length else 0)\n",
        "        next_free[idx] = start + services[i]\n",
        "    return np.array(waits)\n",
        "w_b = simulate_with_breaks(s=3)\n",
        "print(f\"With breaks, s=3 → avg wait = {w_b.mean()*60:.1f} min\")\n",
        "\n",
        "# see the \"brake-time spike\" in waiting"
      ],
      "metadata": {
        "colab": {
          "base_uri": "https://localhost:8080/"
        },
        "id": "jKWzx3yBl0ts",
        "outputId": "eb1f025a-2fce-4b02-cdfb-b7a7d6eef58a"
      },
      "execution_count": 20,
      "outputs": [
        {
          "output_type": "stream",
          "name": "stdout",
          "text": [
            "With breaks, s=3 → avg wait = 105.9 min\n"
          ]
        }
      ]
    },
    {
      "cell_type": "code",
      "source": [
        "# 9. Cost optimization\n",
        "c_agent = 20     # $20/hr per agent\n",
        "c_wait = 0.50    # $0.50 per minute waited\n",
        "\n",
        "costs = []\n",
        "for s in range(1, 6):\n",
        "    w, _ = simulate_with_abandon(s)  # or choose another sim fn\n",
        "    total_wait_cost = w.sum() * 60 * c_wait\n",
        "    staff_cost = s * c_agent * shift_hours\n",
        "    costs.append((s, staff_cost + total_wait_cost))\n",
        "\n",
        "opt = min(costs, key=lambda x: x[1])\n",
        "print(\"Agent count, total cost:\")\n",
        "for s, c in costs: print(f\" s={s}: ${c:,.0f}\")\n",
        "print(f\"→ Optimal s by cost = {opt[0]}\")"
      ],
      "metadata": {
        "colab": {
          "base_uri": "https://localhost:8080/"
        },
        "id": "TaGAgEwcpC5K",
        "outputId": "5d83d5e9-38b9-4beb-ff8f-95f5a9298e75"
      },
      "execution_count": 21,
      "outputs": [
        {
          "output_type": "stream",
          "name": "stdout",
          "text": [
            "Agent count, total cost:\n",
            " s=1: $195\n",
            " s=2: $394\n",
            " s=3: $567\n",
            " s=4: $724\n",
            " s=5: $869\n",
            "→ Optimal s by cost = 1\n"
          ]
        }
      ]
    },
    {
      "cell_type": "code",
      "source": [
        "# 10. 30-day simulation\n",
        "days = 30\n",
        "daily = []\n",
        "for _ in range(days):\n",
        "    w, _ = simulate_with_abandon(opt[0])\n",
        "    daily.append((w.mean()*60, np.percentile(w*60, 95)))\n",
        "\n",
        "df_days = pd.DataFrame(daily, columns=['AvgWait', 'P95Wait'])\n",
        "df_days.describe()\n",
        "df_days.hist(bins=10)\n",
        "plt.suptitle('30-Day Variability in Wait Times')\n",
        "plt.show()"
      ],
      "metadata": {
        "colab": {
          "base_uri": "https://localhost:8080/",
          "height": 478
        },
        "id": "fHKcVlNkrvRK",
        "outputId": "482f9c93-323c-4711-ffc8-26530f8d0c3c"
      },
      "execution_count": 22,
      "outputs": [
        {
          "output_type": "display_data",
          "data": {
            "text/plain": [
              "<Figure size 640x480 with 2 Axes>"
            ],
            "image/png": "[encoded data removed]"
          },
          "metadata": {}
        }
      ]
    },
    {
      "cell_type": "code",
      "source": [],
      "metadata": {
        "id": "ASD0jM59tzFF"
      },
      "execution_count": null,
      "outputs": []
    }
  ]
}